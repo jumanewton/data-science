{
 "cells": [
  {
   "cell_type": "code",
   "execution_count": 1,
   "id": "3ab481dc",
   "metadata": {},
   "outputs": [],
   "source": [
    "import pandas as pd"
   ]
  },
  {
   "cell_type": "code",
   "execution_count": null,
   "id": "10c00f2f",
   "metadata": {},
   "outputs": [],
   "source": [
    "from csv import reader\n",
    "\n",
    "# Read the `artworks_clean.csv` file\n",
    "opened_file = open('artworks_clean.csv')\n",
    "read_file = reader(opened_file)\n",
    "moma = list(read_file)\n",
    "moma = moma[1:]\n",
    "\n",
    "# Convert the birthdate values\n",
    "for row in moma:\n",
    "    birth_date = row[3]\n",
    "    if birth_date != \"\":\n",
    "        birth_date = int(birth_date)\n",
    "    row[3] = birth_date\n",
    "    \n",
    "# Convert the death date values\n",
    "for row in moma:\n",
    "    death_date = row[4]\n",
    "    if death_date != \"\":\n",
    "        death_date = int(death_date)\n",
    "    row[4] = death_date\n",
    "\n",
    "# Write your code below\n",
    "for row in moma:\n",
    "    date=row[6]\n",
    "    if date != \"\":\n",
    "        date=int(date)\n",
    "    row[6]=date\n"
   ]
  },
  {
   "cell_type": "markdown",
   "id": "a52079ee",
   "metadata": {},
   "source": [
    "#### Create an empty list, ages, to store the artist age data.\n",
    "Use a loop to iterate over the rows in moma.\n",
    "In each iteration, assign the artwork year (at index 6) to date and artist birth year (at index 3) to birth.\n",
    "If the birth date is an int, calculate the age of the artist at the time of creating the artwork, and assign it to the variable age.\n",
    "If birth isn't an int type, assign 0 to the variable age.\n",
    "Append age to the ages list.\n",
    "Create an empty list final_ages, to store the final age data.\n",
    "Use a loop to iterate over each age in ages. In each iteration, do the following:\n",
    "If the age is greater than 20, assign the age to the variable final_age.\n",
    "If the age is not greater than 20, assign \"Unknown\" to the variable final_age.\n",
    "Append final_age to the final_ages list."
   ]
  },
  {
   "cell_type": "code",
   "execution_count": null,
   "id": "d8da6d58",
   "metadata": {},
   "outputs": [],
   "source": [
    "ages=[]\n",
    "for row in moma:\n",
    "    date=row[6]\n",
    "    birth=row[3]\n",
    "    if birth != \"\":\n",
    "        age=date-birth\n",
    "    else:\n",
    "        age=0\n",
    "    ages.append(age)\n",
    "final_ages=[]\n",
    "for row in ages:\n",
    "    if row >20:\n",
    "        final_age=row\n",
    "    else:\n",
    "        final_age=\"Unknown\"\n",
    "    final_ages.append(final_age)\n",
    "#end"
   ]
  },
  {
   "cell_type": "markdown",
   "id": "6ab1fd97",
   "metadata": {},
   "source": [
    "Create an empty list, decades, to store the artist decade data.\n",
    "Iterate over the values in final_ages, and in each iteration, do the following:\n",
    "If age is \"Unknown\", assign it to the variable decade\n",
    "If age isn't \"Unknown\", do the following:\n",
    "Convert the integer value to a string and assign it to the variable decade.\n",
    "Use list slicing to remove the final character of decade.\n",
    "Use the + operator to add the substring \"0s\" to the end of the string decade.\n",
    "Append decade to the decades list."
   ]
  },
  {
   "cell_type": "code",
   "execution_count": null,
   "id": "95d81e06",
   "metadata": {},
   "outputs": [],
   "source": [
    "# The final_ages variable is available\n",
    "# from the previous screen\n",
    "decades=[]\n",
    "for row in final_ages:\n",
    "    if row==\"Unknown\":\n",
    "        decade=\"Unknown\"\n",
    "    else:\n",
    "        decade=str(row)\n",
    "        decade=decade[-1]\n",
    "        decade=decade+\"0s\"\n",
    "    decades.append(decade)\n"
   ]
  },
  {
   "cell_type": "markdown",
   "id": "8a538990",
   "metadata": {},
   "source": [
    "##### constructing a frequency table\n"
   ]
  },
  {
   "cell_type": "code",
   "execution_count": null,
   "id": "608ac6cd",
   "metadata": {},
   "outputs": [],
   "source": [
    "# The decades variable is available\n",
    "# from the previous screen\n",
    "decade_frequency={}\n",
    "for row in decades:\n",
    "    if row in decade_frequency:\n",
    "        decade_frequency[row]+=1\n",
    "    else:\n",
    "        decade_frequency[row]=1\n",
    "    "
   ]
  },
  {
   "cell_type": "markdown",
   "id": "65c8339a",
   "metadata": {},
   "source": [
    "### Inserting Variables into Strings"
   ]
  },
  {
   "cell_type": "code",
   "execution_count": 2,
   "id": "2a3f8889",
   "metadata": {},
   "outputs": [
    {
     "name": "stdout",
     "output_type": "stream",
     "text": [
      "Pablo Picasso's birth year is 1881\n"
     ]
    }
   ],
   "source": [
    "artist = \"Pablo Picasso\"\n",
    "birth_year = 1881\n",
    "template=\"{art}'s birth year is {birth}\"\n",
    "output=template.format(art=artist, birth=birth_year)\n",
    "print(output)"
   ]
  },
  {
   "cell_type": "markdown",
   "id": "161c4aac",
   "metadata": {},
   "source": [
    "Create an empty dictionary, artist_freq.\n",
    "Iterate through each item in the moma list of lists. In each iteration, do the following:\n",
    "Assign the artist's name (column index 1) to the variable artist.\n",
    "If artist is not a key in artist_freq, add it as a key with a value of 1.\n",
    "If artist is a key in artist_freq, add one to the existing value for that key."
   ]
  },
  {
   "cell_type": "code",
   "execution_count": null,
   "id": "a8d6d079",
   "metadata": {},
   "outputs": [],
   "source": [
    "artist_freq={}\n",
    "for value in moma:\n",
    "    artist=value[1]\n",
    "    if artist not in artist_freq:\n",
    "        artist_freq[artist]=1\n",
    "    else:\n",
    "        artist_freq[artist]+=1\n"
   ]
  },
  {
   "cell_type": "markdown",
   "id": "09f99403",
   "metadata": {},
   "source": [
    "#### Creating an Artist Summary Function"
   ]
  },
  {
   "cell_type": "code",
   "execution_count": null,
   "id": "3ac4546b",
   "metadata": {},
   "outputs": [],
   "source": [
    "def artist_summary(artist_name):\n",
    "    # Assuming artist_freq is a dictionary containing the number of works for each artist\n",
    "       # Retrieve the number of works of art for the given artist\n",
    "    works_count = artist_freq.get(artist_name, 0)\n",
    "\n",
    "    # Create a template string with placeholders for the artist's name and number of works\n",
    "    template = \"The artist {} has created {} works of art.\"\n",
    "\n",
    "    # Use str.format() to insert the artist's name and number of works into the string template\n",
    "    summary = template.format(artist_name, works_count)\n",
    "\n",
    "    # Display the final string\n",
    "    print(summary)\n",
    "\n",
    "# Example: Display a summary for the artist \"Henri Matisse\"\n",
    "artist_summary(\"Henri Matisse\")\n"
   ]
  },
  {
   "cell_type": "code",
   "execution_count": null,
   "id": "ec437fa5",
   "metadata": {},
   "outputs": [],
   "source": [
    "def artist_summary(artist):\n",
    "    num_artworks = artist_freq[artist]\n",
    "    template = \"There are {num} artworks by {name} in the dataset\"\n",
    "    output = template.format(name=artist, num=num_artworks)\n",
    "    print(output)\n",
    "\n",
    "artist_summary(\"Henri Matisse\")"
   ]
  },
  {
   "cell_type": "markdown",
   "id": "415367ea",
   "metadata": {},
   "source": [
    "#### Formatting Numbers Inside Strings"
   ]
  },
  {
   "cell_type": "code",
   "execution_count": 4,
   "id": "9856ba42",
   "metadata": {},
   "outputs": [
    {
     "name": "stdout",
     "output_type": "stream",
     "text": [
      "The population of China is 1,379.30 million\n",
      "The population of India is 1,281.94 million\n",
      "The population of USA is 326.63 million\n",
      "The population of Indonesia is 260.58 million\n",
      "The population of Brazil is 207.35 million\n"
     ]
    }
   ],
   "source": [
    "pop_millions = [\n",
    "    [\"China\", 1379.302771],\n",
    "    [\"India\", 1281.935991],\n",
    "    [\"USA\",  326.625791],\n",
    "    [\"Indonesia\",  260.580739],\n",
    "    [\"Brazil\",  207.353391],\n",
    "]\n",
    "\n",
    "template = \"The population of {} is {:,.2f} million\"\n",
    "\n",
    "for country in pop_millions:\n",
    "    name = country[0]\n",
    "    pop = country[1]\n",
    "    output = template.format(name, pop)\n",
    "    print(output)"
   ]
  },
  {
   "cell_type": "markdown",
   "id": "4a914b36",
   "metadata": {},
   "source": [
    "#### Summarizing Artwork Gender Data"
   ]
  },
  {
   "cell_type": "code",
   "execution_count": null,
   "id": "466dc69a",
   "metadata": {},
   "outputs": [],
   "source": [
    "gender_freq={}\n",
    "for row in moma:\n",
    "    gender=row[5]\n",
    "    if gender in gender_freq:\n",
    "        gender_freq[gender]+=1\n",
    "    else:\n",
    "        gender_freq[gender]=1\n",
    "for g, f in gender_freq.items():\n",
    "    output= \"There are {:,} artworks by {} artists\".format(f, g)\n",
    "    print(output)"
   ]
  },
  {
   "cell_type": "code",
   "execution_count": null,
   "id": "e5b58549",
   "metadata": {},
   "outputs": [],
   "source": []
  }
 ],
 "metadata": {
  "kernelspec": {
   "display_name": "Python 3 (ipykernel)",
   "language": "python",
   "name": "python3"
  },
  "language_info": {
   "codemirror_mode": {
    "name": "ipython",
    "version": 3
   },
   "file_extension": ".py",
   "mimetype": "text/x-python",
   "name": "python",
   "nbconvert_exporter": "python",
   "pygments_lexer": "ipython3",
   "version": "3.11.5"
  }
 },
 "nbformat": 4,
 "nbformat_minor": 5
}
