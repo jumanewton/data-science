{
 "cells": [
  {
   "cell_type": "code",
   "execution_count": 7,
   "id": "bfb03289",
   "metadata": {},
   "outputs": [
    {
     "ename": "FileNotFoundError",
     "evalue": "[Errno 2] No such file or directory: 'potus_visitors_2015.csv'",
     "output_type": "error",
     "traceback": [
      "\u001b[1;31m---------------------------------------------------------------------------\u001b[0m",
      "\u001b[1;31mFileNotFoundError\u001b[0m                         Traceback (most recent call last)",
      "Cell \u001b[1;32mIn[7], line 2\u001b[0m\n\u001b[0;32m      1\u001b[0m \u001b[38;5;28;01mfrom\u001b[39;00m \u001b[38;5;21;01mcsv\u001b[39;00m \u001b[38;5;28;01mimport\u001b[39;00m reader\n\u001b[1;32m----> 2\u001b[0m opened_file\u001b[38;5;241m=\u001b[39m\u001b[38;5;28mopen\u001b[39m(\u001b[38;5;124m\"\u001b[39m\u001b[38;5;124mpotus_visitors_2015.csv\u001b[39m\u001b[38;5;124m\"\u001b[39m)\n\u001b[0;32m      3\u001b[0m read_file\u001b[38;5;241m=\u001b[39mreader(opened_file)\n\u001b[0;32m      4\u001b[0m potus\u001b[38;5;241m=\u001b[39m\u001b[38;5;28mlist\u001b[39m(read_file)[\u001b[38;5;241m1\u001b[39m:]\n",
      "File \u001b[1;32m~\\anaconda3\\Lib\\site-packages\\IPython\\core\\interactiveshell.py:286\u001b[0m, in \u001b[0;36m_modified_open\u001b[1;34m(file, *args, **kwargs)\u001b[0m\n\u001b[0;32m    279\u001b[0m \u001b[38;5;28;01mif\u001b[39;00m file \u001b[38;5;129;01min\u001b[39;00m {\u001b[38;5;241m0\u001b[39m, \u001b[38;5;241m1\u001b[39m, \u001b[38;5;241m2\u001b[39m}:\n\u001b[0;32m    280\u001b[0m     \u001b[38;5;28;01mraise\u001b[39;00m \u001b[38;5;167;01mValueError\u001b[39;00m(\n\u001b[0;32m    281\u001b[0m         \u001b[38;5;124mf\u001b[39m\u001b[38;5;124m\"\u001b[39m\u001b[38;5;124mIPython won\u001b[39m\u001b[38;5;124m'\u001b[39m\u001b[38;5;124mt let you open fd=\u001b[39m\u001b[38;5;132;01m{\u001b[39;00mfile\u001b[38;5;132;01m}\u001b[39;00m\u001b[38;5;124m by default \u001b[39m\u001b[38;5;124m\"\u001b[39m\n\u001b[0;32m    282\u001b[0m         \u001b[38;5;124m\"\u001b[39m\u001b[38;5;124mas it is likely to crash IPython. If you know what you are doing, \u001b[39m\u001b[38;5;124m\"\u001b[39m\n\u001b[0;32m    283\u001b[0m         \u001b[38;5;124m\"\u001b[39m\u001b[38;5;124myou can use builtins\u001b[39m\u001b[38;5;124m'\u001b[39m\u001b[38;5;124m open.\u001b[39m\u001b[38;5;124m\"\u001b[39m\n\u001b[0;32m    284\u001b[0m     )\n\u001b[1;32m--> 286\u001b[0m \u001b[38;5;28;01mreturn\u001b[39;00m io_open(file, \u001b[38;5;241m*\u001b[39margs, \u001b[38;5;241m*\u001b[39m\u001b[38;5;241m*\u001b[39mkwargs)\n",
      "\u001b[1;31mFileNotFoundError\u001b[0m: [Errno 2] No such file or directory: 'potus_visitors_2015.csv'"
     ]
    }
   ],
   "source": [
    "from csv import reader\n",
    "opened_file=open(\"potus_visitors_2015.csv\")\n",
    "read_file=reader(opened_file)\n",
    "potus=list(read_file)[1:]\n"
   ]
  },
  {
   "cell_type": "code",
   "execution_count": 1,
   "id": "5f4a65d8",
   "metadata": {},
   "outputs": [],
   "source": [
    "import datetime as dt"
   ]
  },
  {
   "cell_type": "code",
   "execution_count": 6,
   "id": "6ed07be1",
   "metadata": {},
   "outputs": [],
   "source": [
    "import datetime as dt\n",
    "ibm_founded=dt.datetime(1911, 6, 16, 00, 00, 00)\n",
    "man_on_moon=dt.datetime(1969, 7, 20, 20, 17, 00)"
   ]
  },
  {
   "cell_type": "code",
   "execution_count": 14,
   "id": "581d370d",
   "metadata": {},
   "outputs": [
    {
     "ename": "NameError",
     "evalue": "name 'potus' is not defined",
     "output_type": "error",
     "traceback": [
      "\u001b[1;31m---------------------------------------------------------------------------\u001b[0m",
      "\u001b[1;31mNameError\u001b[0m                                 Traceback (most recent call last)",
      "Cell \u001b[1;32mIn[14], line 6\u001b[0m\n\u001b[0;32m      1\u001b[0m \u001b[38;5;66;03m# The `potus` list of lists is available from\u001b[39;00m\n\u001b[0;32m      2\u001b[0m \u001b[38;5;66;03m# the earlier screen where we created it\u001b[39;00m\n\u001b[0;32m      5\u001b[0m date_format \u001b[38;5;241m=\u001b[39m \u001b[38;5;124m\"\u001b[39m\u001b[38;5;124m%\u001b[39m\u001b[38;5;124mm/\u001b[39m\u001b[38;5;132;01m%d\u001b[39;00m\u001b[38;5;124m/\u001b[39m\u001b[38;5;124m%\u001b[39m\u001b[38;5;124my \u001b[39m\u001b[38;5;124m%\u001b[39m\u001b[38;5;124mH:\u001b[39m\u001b[38;5;124m%\u001b[39m\u001b[38;5;124mM\u001b[39m\u001b[38;5;124m\"\u001b[39m\n\u001b[1;32m----> 6\u001b[0m \u001b[38;5;28;01mfor\u001b[39;00m row \u001b[38;5;129;01min\u001b[39;00m potus:\n\u001b[0;32m      7\u001b[0m     start_date \u001b[38;5;241m=\u001b[39m row[\u001b[38;5;241m2\u001b[39m]\n\u001b[0;32m      8\u001b[0m     start_date \u001b[38;5;241m=\u001b[39m dt\u001b[38;5;241m.\u001b[39mdatetime\u001b[38;5;241m.\u001b[39mstrptime(start_date, date_format)\n",
      "\u001b[1;31mNameError\u001b[0m: name 'potus' is not defined"
     ]
    }
   ],
   "source": [
    "# The `potus` list of lists is available from\n",
    "# the earlier screen where we created it\n",
    "\n",
    "\n",
    "date_format = \"%m/%d/%y %H:%M\"\n",
    "for row in potus:\n",
    "    start_date = row[2]\n",
    "    start_date = dt.datetime.strptime(start_date, date_format)\n",
    "    row[2] = start_date"
   ]
  },
  {
   "cell_type": "markdown",
   "id": "1aa55475",
   "metadata": {},
   "source": [
    "##### using strftime to format dates\n"
   ]
  },
  {
   "cell_type": "code",
   "execution_count": 17,
   "id": "b4cafbaa",
   "metadata": {},
   "outputs": [
    {
     "ename": "NameError",
     "evalue": "name 'potus' is not defined",
     "output_type": "error",
     "traceback": [
      "\u001b[1;31m---------------------------------------------------------------------------\u001b[0m",
      "\u001b[1;31mNameError\u001b[0m                                 Traceback (most recent call last)",
      "Cell \u001b[1;32mIn[17], line 3\u001b[0m\n\u001b[0;32m      1\u001b[0m \u001b[38;5;28;01mimport\u001b[39;00m \u001b[38;5;21;01mdatetime\u001b[39;00m \u001b[38;5;28;01mas\u001b[39;00m \u001b[38;5;21;01mdt\u001b[39;00m\n\u001b[0;32m      2\u001b[0m visitors_per_month\u001b[38;5;241m=\u001b[39m{}\n\u001b[1;32m----> 3\u001b[0m \u001b[38;5;28;01mfor\u001b[39;00m row \u001b[38;5;129;01min\u001b[39;00m potus:\n\u001b[0;32m      4\u001b[0m     var \u001b[38;5;241m=\u001b[39mrow[\u001b[38;5;241m2\u001b[39m]\n\u001b[0;32m      5\u001b[0m     \u001b[38;5;66;03m#name=row[0]\u001b[39;00m\n",
      "\u001b[1;31mNameError\u001b[0m: name 'potus' is not defined"
     ]
    }
   ],
   "source": [
    "import datetime as dt\n",
    "visitors_per_month={}\n",
    "for row in potus:\n",
    "    var =row[2]\n",
    "    #name=row[0]\n",
    "    Mname=dt.datetime.strftime(var, \"%B, %Y\")\n",
    "    if Mname in visitors_per_month:\n",
    "        visitors_per_month[Mname] += 1\n",
    "    else:\n",
    "        visitors_per_month[Mname] = 1"
   ]
  },
  {
   "cell_type": "markdown",
   "id": "5cd24a65",
   "metadata": {},
   "source": [
    "#### The time class"
   ]
  },
  {
   "cell_type": "code",
   "execution_count": null,
   "id": "01573e2a",
   "metadata": {},
   "outputs": [],
   "source": [
    "import datetime as dt\n",
    "\n",
    "appt_times = []\n",
    "\n",
    "for row in potus:\n",
    "    date_obj = row[2]\n",
    "    \n",
    "    # Assuming date_obj is a datetime object\n",
    "    time_obj = date_obj.time()\n",
    "    \n",
    "    appt_times.append(time_obj)\n",
    "    \n",
    "    \n",
    "    \n",
    "    #finding minimum and maximum time\n",
    "min_time=min(appt_times)\n",
    "max_time=max(appt_times)\n",
    "\n",
    "\n",
    "\n",
    "#timedelta and datetime\n",
    "dt_1 = dt.datetime(1981, 1, 31)\n",
    "dt_2 = dt.datetime(1984, 6, 28)\n",
    "dt_3 = dt.datetime(2016, 5, 24)\n",
    "dt_4 = dt.datetime(2001, 1, 1, 8, 24, 13)\n",
    "answer_1=dt_2-dt_1\n",
    "answer_2=dt_3+dt.timedelta(days=56)\n",
    "answer_3=dt_4-dt.timedelta(seconds=3600)\n",
    "\n",
    "\n",
    "#finding differences and creating a frequency table for the meetings\n",
    "for row in potus:\n",
    "    end_date = row[3]\n",
    "    end_date = dt.datetime.strptime(end_date, \"%m/%d/%y %H:%M\")\n",
    "    row[3] = end_date\n",
    "    \n",
    "appt_lengths={}\n",
    "for row in potus:\n",
    "    st_date=row[2]\n",
    "    en_date=row[3]\n",
    "    length=(en_date-st_date)\n",
    "    if length not in appt_lengths:\n",
    "        appt_lengths[length]=1\n",
    "    else:\n",
    "        appt_lengths[length]+=1\n",
    "min_length=min(appt_lengths)\n",
    "max_length=max(appt_lengths)\n"
   ]
  }
 ],
 "metadata": {
  "kernelspec": {
   "display_name": "Python 3 (ipykernel)",
   "language": "python",
   "name": "python3"
  },
  "language_info": {
   "codemirror_mode": {
    "name": "ipython",
    "version": 3
   },
   "file_extension": ".py",
   "mimetype": "text/x-python",
   "name": "python",
   "nbconvert_exporter": "python",
   "pygments_lexer": "ipython3",
   "version": "3.11.5"
  }
 },
 "nbformat": 4,
 "nbformat_minor": 5
}
