{
 "cells": [
  {
   "cell_type": "code",
   "execution_count": null,
   "id": "3d2503e1",
   "metadata": {},
   "outputs": [],
   "source": []
  },
  {
   "cell_type": "code",
   "execution_count": 4,
   "id": "9e3a72d2",
   "metadata": {},
   "outputs": [],
   "source": [
    "class myclass:\n",
    "    pass\n"
   ]
  },
  {
   "cell_type": "markdown",
   "id": "06b1f7f7",
   "metadata": {},
   "source": [
    " Instantiating a Class"
   ]
  },
  {
   "cell_type": "code",
   "execution_count": 5,
   "id": "bb070082",
   "metadata": {},
   "outputs": [
    {
     "name": "stdout",
     "output_type": "stream",
     "text": [
      "<class '__main__.MyClass'>\n"
     ]
    }
   ],
   "source": [
    "class MyClass:\n",
    "    pass\n",
    "my_instance=MyClass()\n",
    "print(type(my_instance))"
   ]
  },
  {
   "cell_type": "markdown",
   "id": "fcc8f18c",
   "metadata": {},
   "source": [
    "##### creating a method inside a function"
   ]
  },
  {
   "cell_type": "code",
   "execution_count": 2,
   "id": "00b2b750",
   "metadata": {},
   "outputs": [],
   "source": [
    "class MyClass:\n",
    "    def first_method():\n",
    "        return \"This is my first method\"\n",
    "my_instance=MyClass()"
   ]
  },
  {
   "cell_type": "code",
   "execution_count": 1,
   "id": "65bd5371",
   "metadata": {},
   "outputs": [],
   "source": [
    "# calling a self method\n",
    "class MyClass:\n",
    "    def first_method(self):\n",
    "        return \"This is my first method\"\n",
    "\n",
    "my_instance = MyClass()\n",
    "result = my_instance.first_method()\n"
   ]
  },
  {
   "cell_type": "code",
   "execution_count": 3,
   "id": "56f35f0b",
   "metadata": {},
   "outputs": [],
   "source": [
    "# adding arguments to a method\n",
    "class MyClass:\n",
    "    \n",
    "    def first_method(self):\n",
    "        return \"This is my first method\"\n",
    "    \n",
    "    # Add method here\n",
    "    def return_list(self, input_list):\n",
    "        return input_list\n",
    "my_instance=MyClass()\n",
    "result=my_instance.return_list([1,2,3])\n"
   ]
  },
  {
   "cell_type": "code",
   "execution_count": 8,
   "id": "6fc691cd",
   "metadata": {
    "scrolled": true
   },
   "outputs": [
    {
     "name": "stdout",
     "output_type": "stream",
     "text": [
      "[1, 2, 3, 4, 5]\n"
     ]
    }
   ],
   "source": [
    "# Attributes and the Init Method\n",
    "class MyList:\n",
    "    def __init__(self, initial_data):\n",
    "        self.data=initial_data\n",
    "my_list=MyList([1, 2, 3, 4, 5])\n",
    "print(my_list.data)\n",
    "        "
   ]
  },
  {
   "cell_type": "code",
   "execution_count": 13,
   "id": "96bb3974",
   "metadata": {
    "scrolled": true
   },
   "outputs": [
    {
     "name": "stdout",
     "output_type": "stream",
     "text": [
      "[1, 2, 3, 4, 5]\n",
      "[1, 2, 3, 4, 5, 6]\n"
     ]
    }
   ],
   "source": [
    "# Creating an append method\n",
    "class MyList:\n",
    "    def __init__(self, initial_data):\n",
    "        self.data = initial_data\n",
    "        \n",
    "    # Add method here\n",
    "    def append(self, new_item):\n",
    "        \n",
    "        self.data=self.data+[new_item]\n",
    "my_list=MyList([1, 2, 3, 4, 5])\n",
    "print(my_list.data)\n",
    "my_list.append(6)\n",
    "print(my_list.data)"
   ]
  },
  {
   "cell_type": "code",
   "execution_count": 10,
   "id": "4fb477d5",
   "metadata": {},
   "outputs": [
    {
     "name": "stdout",
     "output_type": "stream",
     "text": [
      "[1, 2, 3, 4, 5]\n",
      "[1, 2, 3, 4, 5, 6]\n"
     ]
    }
   ],
   "source": [
    "class MyList:\n",
    "    def __init__(self, initial_data):\n",
    "        self.data = initial_data\n",
    "        \n",
    "    # Add method here\n",
    "    def append(self, new_item):\n",
    "        self.data = self.data + [new_item]\n",
    "\n",
    "# Creating an instance of MyList with initial data [1, 2, 3, 4, 5]\n",
    "my_list = MyList([1, 2, 3, 4, 5])\n",
    "print(my_list.data)  # Output: [1, 2, 3, 4, 5]\n",
    "\n",
    "# Using the append method to add 6 to the list\n",
    "my_list.append(6)\n",
    "print(my_list.data)  # Output: [1, 2, 3, 4, 5, 6]\n"
   ]
  },
  {
   "cell_type": "code",
   "execution_count": 16,
   "id": "59eea551",
   "metadata": {
    "scrolled": true
   },
   "outputs": [
    {
     "name": "stdout",
     "output_type": "stream",
     "text": [
      "[1, 1, 2, 3, 5]\n",
      "6\n"
     ]
    }
   ],
   "source": [
    "# creating and updating an attribute\n",
    "class MyList:\n",
    "\n",
    "    def __init__(self, initial_data):\n",
    "        self.data = initial_data\n",
    "        # Calculate the initial length\n",
    "        self.length = 0\n",
    "        for item in self.data:\n",
    "            self.length += 1\n",
    "\n",
    "    def append(self, new_item):\n",
    "        self.data = self.data + [new_item]\n",
    "        \n",
    "        # Update the length here\n",
    "        self.length += 1\n",
    "my_list=MyList([1, 1, 2, 3, 5])\n",
    "print(my_list.data)\n",
    "my_list.append(8)\n",
    "print(my_list.length)"
   ]
  },
  {
   "cell_type": "code",
   "execution_count": 17,
   "id": "783823b7",
   "metadata": {},
   "outputs": [
    {
     "name": "stdout",
     "output_type": "stream",
     "text": [
      "MyList: [1, 1, 2, 3, 5], Length: 5\n",
      "6\n",
      "MyList: [1, 1, 2, 3, 5, 8], Length: 6\n"
     ]
    }
   ],
   "source": [
    "class MyList:\n",
    "    def __init__(self, initial_data):\n",
    "        self.data = initial_data\n",
    "        # Calculate the initial length\n",
    "        self.length = 0\n",
    "        for item in self.data:\n",
    "            self.length += 1\n",
    "\n",
    "    def append(self, new_item):\n",
    "        self.data = self.data + [new_item]\n",
    "        # Update the length here\n",
    "        self.length += 1\n",
    "\n",
    "    def __str__(self):\n",
    "        return f\"MyList: {self.data}, Length: {self.length}\"\n",
    "\n",
    "# Creating an instance of MyList with initial data [1, 1, 2, 3, 5]\n",
    "my_list = MyList([1, 1, 2, 3, 5])\n",
    "print(my_list)  # Output: MyList: [1, 1, 2, 3, 5], Length: 5\n",
    "\n",
    "# Using the append method to add 8 to the list\n",
    "my_list.append(8)\n",
    "print(my_list.length)  # Output: 6\n",
    "print(my_list)  # Output: MyList: [1, 1, 2, 3, 5, 8], Length: 6\n"
   ]
  }
 ],
 "metadata": {
  "kernelspec": {
   "display_name": "Python 3 (ipykernel)",
   "language": "python",
   "name": "python3"
  },
  "language_info": {
   "codemirror_mode": {
    "name": "ipython",
    "version": 3
   },
   "file_extension": ".py",
   "mimetype": "text/x-python",
   "name": "python",
   "nbconvert_exporter": "python",
   "pygments_lexer": "ipython3",
   "version": "3.11.5"
  }
 },
 "nbformat": 4,
 "nbformat_minor": 5
}
