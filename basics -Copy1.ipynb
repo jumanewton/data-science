{
 "cells": [
  {
   "cell_type": "code",
   "execution_count": 1,
   "id": "d94b8999",
   "metadata": {},
   "outputs": [
    {
     "name": "stdout",
     "output_type": "stream",
     "text": [
      "[['', 'id', 'track_name', 'size_bytes', 'currency', 'price', 'rating_count_tot', 'rating_count_ver', 'user_rating', 'user_rating_ver', 'ver', 'cont_rating', 'prime_genre', 'sup_devices.num', 'ipadSc_urls.num', 'lang.num', 'vpp_lic'], ['1', '281656475', 'PAC-MAN Premium', '100788224', 'USD', '3.99', '21292', '26', '4', '4.5', '6.3.5', '4+', 'Games', '38', '5', '10', '1'], ['2', '281796108', 'Evernote - stay organized', '158578688', 'USD', '0', '161065', '26', '4', '3.5', '8.2.2', '4+', 'Productivity', '37', '5', '23', '1']]\n"
     ]
    }
   ],
   "source": [
    "opened_file=open(\"Downloads/archive/AppleStore.csv\", encoding=\"utf-8\")\n",
    "from csv import reader\n",
    "#opened_file=open('AppleStore.csv')\n",
    "read_file=reader(opened_file)\n",
    "apps_data=list(read_file)\n",
    "print(apps_data[:3])"
   ]
  },
  {
   "cell_type": "code",
   "execution_count": 2,
   "id": "00a1d603",
   "metadata": {},
   "outputs": [
    {
     "data": {
      "text/html": [
       "<div>\n",
       "<style scoped>\n",
       "    .dataframe tbody tr th:only-of-type {\n",
       "        vertical-align: middle;\n",
       "    }\n",
       "\n",
       "    .dataframe tbody tr th {\n",
       "        vertical-align: top;\n",
       "    }\n",
       "\n",
       "    .dataframe thead th {\n",
       "        text-align: right;\n",
       "    }\n",
       "</style>\n",
       "<table border=\"1\" class=\"dataframe\">\n",
       "  <thead>\n",
       "    <tr style=\"text-align: right;\">\n",
       "      <th></th>\n",
       "      <th>Unnamed: 0</th>\n",
       "      <th>id</th>\n",
       "      <th>track_name</th>\n",
       "      <th>size_bytes</th>\n",
       "      <th>currency</th>\n",
       "      <th>price</th>\n",
       "      <th>rating_count_tot</th>\n",
       "      <th>rating_count_ver</th>\n",
       "      <th>user_rating</th>\n",
       "      <th>user_rating_ver</th>\n",
       "      <th>ver</th>\n",
       "      <th>cont_rating</th>\n",
       "      <th>prime_genre</th>\n",
       "      <th>sup_devices.num</th>\n",
       "      <th>ipadSc_urls.num</th>\n",
       "      <th>lang.num</th>\n",
       "      <th>vpp_lic</th>\n",
       "    </tr>\n",
       "  </thead>\n",
       "  <tbody>\n",
       "    <tr>\n",
       "      <th>0</th>\n",
       "      <td>1</td>\n",
       "      <td>281656475</td>\n",
       "      <td>PAC-MAN Premium</td>\n",
       "      <td>100788224</td>\n",
       "      <td>USD</td>\n",
       "      <td>3.99</td>\n",
       "      <td>21292</td>\n",
       "      <td>26</td>\n",
       "      <td>4.0</td>\n",
       "      <td>4.5</td>\n",
       "      <td>6.3.5</td>\n",
       "      <td>4+</td>\n",
       "      <td>Games</td>\n",
       "      <td>38</td>\n",
       "      <td>5</td>\n",
       "      <td>10</td>\n",
       "      <td>1</td>\n",
       "    </tr>\n",
       "    <tr>\n",
       "      <th>1</th>\n",
       "      <td>2</td>\n",
       "      <td>281796108</td>\n",
       "      <td>Evernote - stay organized</td>\n",
       "      <td>158578688</td>\n",
       "      <td>USD</td>\n",
       "      <td>0.00</td>\n",
       "      <td>161065</td>\n",
       "      <td>26</td>\n",
       "      <td>4.0</td>\n",
       "      <td>3.5</td>\n",
       "      <td>8.2.2</td>\n",
       "      <td>4+</td>\n",
       "      <td>Productivity</td>\n",
       "      <td>37</td>\n",
       "      <td>5</td>\n",
       "      <td>23</td>\n",
       "      <td>1</td>\n",
       "    </tr>\n",
       "    <tr>\n",
       "      <th>2</th>\n",
       "      <td>3</td>\n",
       "      <td>281940292</td>\n",
       "      <td>WeatherBug - Local Weather, Radar, Maps, Alerts</td>\n",
       "      <td>100524032</td>\n",
       "      <td>USD</td>\n",
       "      <td>0.00</td>\n",
       "      <td>188583</td>\n",
       "      <td>2822</td>\n",
       "      <td>3.5</td>\n",
       "      <td>4.5</td>\n",
       "      <td>5.0.0</td>\n",
       "      <td>4+</td>\n",
       "      <td>Weather</td>\n",
       "      <td>37</td>\n",
       "      <td>5</td>\n",
       "      <td>3</td>\n",
       "      <td>1</td>\n",
       "    </tr>\n",
       "    <tr>\n",
       "      <th>3</th>\n",
       "      <td>4</td>\n",
       "      <td>282614216</td>\n",
       "      <td>eBay: Best App to Buy, Sell, Save! Online Shop...</td>\n",
       "      <td>128512000</td>\n",
       "      <td>USD</td>\n",
       "      <td>0.00</td>\n",
       "      <td>262241</td>\n",
       "      <td>649</td>\n",
       "      <td>4.0</td>\n",
       "      <td>4.5</td>\n",
       "      <td>5.10.0</td>\n",
       "      <td>12+</td>\n",
       "      <td>Shopping</td>\n",
       "      <td>37</td>\n",
       "      <td>5</td>\n",
       "      <td>9</td>\n",
       "      <td>1</td>\n",
       "    </tr>\n",
       "    <tr>\n",
       "      <th>4</th>\n",
       "      <td>5</td>\n",
       "      <td>282935706</td>\n",
       "      <td>Bible</td>\n",
       "      <td>92774400</td>\n",
       "      <td>USD</td>\n",
       "      <td>0.00</td>\n",
       "      <td>985920</td>\n",
       "      <td>5320</td>\n",
       "      <td>4.5</td>\n",
       "      <td>5.0</td>\n",
       "      <td>7.5.1</td>\n",
       "      <td>4+</td>\n",
       "      <td>Reference</td>\n",
       "      <td>37</td>\n",
       "      <td>5</td>\n",
       "      <td>45</td>\n",
       "      <td>1</td>\n",
       "    </tr>\n",
       "  </tbody>\n",
       "</table>\n",
       "</div>"
      ],
      "text/plain": [
       "   Unnamed: 0         id                                         track_name  \\\n",
       "0           1  281656475                                    PAC-MAN Premium   \n",
       "1           2  281796108                          Evernote - stay organized   \n",
       "2           3  281940292    WeatherBug - Local Weather, Radar, Maps, Alerts   \n",
       "3           4  282614216  eBay: Best App to Buy, Sell, Save! Online Shop...   \n",
       "4           5  282935706                                              Bible   \n",
       "\n",
       "   size_bytes currency  price  rating_count_tot  rating_count_ver  \\\n",
       "0   100788224      USD   3.99             21292                26   \n",
       "1   158578688      USD   0.00            161065                26   \n",
       "2   100524032      USD   0.00            188583              2822   \n",
       "3   128512000      USD   0.00            262241               649   \n",
       "4    92774400      USD   0.00            985920              5320   \n",
       "\n",
       "   user_rating  user_rating_ver     ver cont_rating   prime_genre  \\\n",
       "0          4.0              4.5   6.3.5          4+         Games   \n",
       "1          4.0              3.5   8.2.2          4+  Productivity   \n",
       "2          3.5              4.5   5.0.0          4+       Weather   \n",
       "3          4.0              4.5  5.10.0         12+      Shopping   \n",
       "4          4.5              5.0   7.5.1          4+     Reference   \n",
       "\n",
       "   sup_devices.num  ipadSc_urls.num  lang.num  vpp_lic  \n",
       "0               38                5        10        1  \n",
       "1               37                5        23        1  \n",
       "2               37                5         3        1  \n",
       "3               37                5         9        1  \n",
       "4               37                5        45        1  "
      ]
     },
     "execution_count": 2,
     "metadata": {},
     "output_type": "execute_result"
    }
   ],
   "source": [
    "import pandas as pd\n",
    "\n",
    "# Replace the path with the actual path of your CSV file\n",
    "path = 'Downloads/archive/AppleStore.csv'\n",
    "\n",
    "# Load the CSV file into a pandas DataFrame\n",
    "df = pd.read_csv(path)\n",
    "\n",
    "# Display the first 5 rows of the DataFrame\n",
    "df.head()"
   ]
  },
  {
   "cell_type": "code",
   "execution_count": 3,
   "id": "2d750325",
   "metadata": {},
   "outputs": [
    {
     "name": "stdout",
     "output_type": "stream",
     "text": [
      "[['', 'id', 'track_name', 'size_bytes', 'currency', 'price', 'rating_count_tot', 'rating_count_ver', 'user_rating', 'user_rating_ver', 'ver', 'cont_rating', 'prime_genre', 'sup_devices.num', 'ipadSc_urls.num', 'lang.num', 'vpp_lic'], ['1', '281656475', 'PAC-MAN Premium', '100788224', 'USD', '3.99', '21292', '26', '4', '4.5', '6.3.5', '4+', 'Games', '38', '5', '10', '1'], ['2', '281796108', 'Evernote - stay organized', '158578688', 'USD', '0', '161065', '26', '4', '3.5', '8.2.2', '4+', 'Productivity', '37', '5', '23', '1']]\n"
     ]
    }
   ],
   "source": [
    "from csv import reader\n",
    "\n",
    "try:\n",
    "    opened_file = open(\"Downloads/archive/AppleStore.csv\", encoding=\"utf-8\")\n",
    "    read_file = reader(opened_file)\n",
    "    apps_data = list(read_file)\n",
    "    \n",
    "    # Display the first 3 rows of the CSV file\n",
    "    print(apps_data[:3])\n",
    "    \n",
    "except FileNotFoundError:\n",
    "    print(\"File not found. Please check the file path.\")\n",
    "except Exception as e:\n",
    "    print(f\"An error occurred: {e}\")\n",
    "finally:\n",
    "    # Make sure to close the file, whether an exception occurs or not\n",
    "    opened_file.close()\n"
   ]
  },
  {
   "cell_type": "markdown",
   "id": "3445b696",
   "metadata": {},
   "source": [
    "## A new set of codes for opening files using functions and manipulating rows and columns."
   ]
  },
  {
   "cell_type": "code",
   "execution_count": 4,
   "id": "02129f9e",
   "metadata": {},
   "outputs": [],
   "source": [
    "from csv import reader\n",
    "def open_file(dataset):\n",
    "    opened_file=open(dataset, encoding='utf8')\n",
    "    read_file=reader(opened_file)\n",
    "    apps_data=list(read_file)\n",
    "    return apps_data\n",
    "apple_data=open_file(\"Downloads/archive/AppleStore.csv\")\n",
    "playstore_data=open_file('Downloads/googleplaystore.csv')\n"
   ]
  },
  {
   "cell_type": "code",
   "execution_count": 5,
   "id": "ff2d1d78",
   "metadata": {},
   "outputs": [
    {
     "name": "stdout",
     "output_type": "stream",
     "text": [
      "['', 'id', 'track_name', 'size_bytes', 'currency', 'price', 'rating_count_tot', 'rating_count_ver', 'user_rating', 'user_rating_ver', 'ver', 'cont_rating', 'prime_genre', 'sup_devices.num', 'ipadSc_urls.num', 'lang.num', 'vpp_lic']\n",
      "rows: 7198 columns: 17\n",
      "['App', 'Category', 'Rating', 'Reviews', 'Size', 'Installs', 'Type', 'Price', 'Content Rating', 'Genres', 'Last Updated', 'Current Ver', 'Android Ver']\n",
      "rows: 10842 columns: 13\n"
     ]
    }
   ],
   "source": [
    "def explore_data(dataset):\n",
    "    print(dataset[0])\n",
    "    columns=len(dataset[0])\n",
    "    rows=len(dataset)\n",
    "    print(\"rows: \"+str(rows)+\" columns: \"+str(columns))\n",
    "apple_desc=explore_data(apple_data)\n",
    "playstore_desc=explore_data(playstore_data)"
   ]
  },
  {
   "cell_type": "code",
   "execution_count": 6,
   "id": "36417564",
   "metadata": {
    "scrolled": true
   },
   "outputs": [
    {
     "name": "stdout",
     "output_type": "stream",
     "text": [
      "['Life Made WI-Fi Touchscreen Photo Frame', '1.9', '19', '3.0M', '1,000+', 'Free', '0', 'Everyone', '', 'February 11, 2018', '1.0.19', '4.0 and up']\n"
     ]
    }
   ],
   "source": [
    "row_index=playstore_data[10473]\n",
    "print(row_index)"
   ]
  },
  {
   "cell_type": "markdown",
   "id": "0c0cd850",
   "metadata": {},
   "source": [
    "***The data from google playstore has duplicates as shown in the cell bellow:"
   ]
  },
  {
   "cell_type": "code",
   "execution_count": 7,
   "id": "6cd8c9ec",
   "metadata": {
    "scrolled": true
   },
   "outputs": [
    {
     "name": "stdout",
     "output_type": "stream",
     "text": [
      "['Instagram', 'SOCIAL', '4.5', '66577313', 'Varies with device', '1,000,000,000+', 'Free', '0', 'Teen', 'Social', 'July 31, 2018', 'Varies with device', 'Varies with device']\n",
      "['Instagram', 'SOCIAL', '4.5', '66577446', 'Varies with device', '1,000,000,000+', 'Free', '0', 'Teen', 'Social', 'July 31, 2018', 'Varies with device', 'Varies with device']\n",
      "['Instagram', 'SOCIAL', '4.5', '66577313', 'Varies with device', '1,000,000,000+', 'Free', '0', 'Teen', 'Social', 'July 31, 2018', 'Varies with device', 'Varies with device']\n",
      "['Instagram', 'SOCIAL', '4.5', '66509917', 'Varies with device', '1,000,000,000+', 'Free', '0', 'Teen', 'Social', 'July 31, 2018', 'Varies with device', 'Varies with device']\n"
     ]
    }
   ],
   "source": [
    "for app in playstore_data:\n",
    "    name=app[0]\n",
    "    if name=='Instagram':\n",
    "        print(app)"
   ]
  },
  {
   "cell_type": "code",
   "execution_count": 8,
   "id": "833c75ee",
   "metadata": {},
   "outputs": [
    {
     "name": "stdout",
     "output_type": "stream",
     "text": [
      "The number of duplicate apps is: 1181\n",
      "The number of unique apps is:9661\n"
     ]
    }
   ],
   "source": [
    "duplicates=[]\n",
    "unique=[]\n",
    "for datarows in playstore_data:\n",
    "    names=datarows[0]\n",
    "    if names in unique:\n",
    "        duplicates.append(names)\n",
    "    else:\n",
    "        unique.append(names)\n",
    "print('The number of duplicate apps is: '+str(len(duplicates)))\n",
    "print('The number of unique apps is:'+str(len(unique)))\n"
   ]
  },
  {
   "cell_type": "markdown",
   "id": "9b5b4c38",
   "metadata": {},
   "source": [
    "#### to remove duplicates, it won't occur randomly but first by compairing the data values in the forth column of each duplicate, deleting the rest and keeping the most recent; the one with the largest value"
   ]
  },
  {
   "cell_type": "code",
   "execution_count": 9,
   "id": "32794425",
   "metadata": {
    "scrolled": true
   },
   "outputs": [],
   "source": [
    "def convert_to_float(value):\n",
    "    if 'M' in value:\n",
    "        return float(value.replace('M', '')) * 1e6  # convert million to float\n",
    "    else:\n",
    "        return float(value)\n",
    "review_max={}\n",
    "for row in playstore_data[1:]:\n",
    "    name=row[0]\n",
    "    n_reviews = convert_to_float(row[3])\n",
    "   # if name in review_max and review_max[name]< n_reviews:\n",
    "      #  review_max.append(name,n_reviews)\n",
    "    #if name not in review_max:\n",
    "       # review_max.append(name,n_reviews)\n",
    "    if name in review_max and review_max[name] < n_reviews:\n",
    "        review_max[name] = n_reviews\n",
    "    elif name not in review_max:\n",
    "        review_max[name] = n_reviews\n",
    "\n"
   ]
  },
  {
   "cell_type": "code",
   "execution_count": 10,
   "id": "259c27b4",
   "metadata": {},
   "outputs": [
    {
     "name": "stdout",
     "output_type": "stream",
     "text": [
      "App: Photo Editor & Candy Camera & Grid & ScrapBook, Max Reviews: 159.0\n",
      "App: Coloring book moana, Max Reviews: 974.0\n",
      "App: U Launcher Lite – FREE Live Cool Themes, Hide Apps, Max Reviews: 87510.0\n",
      "App: Sketch - Draw & Paint, Max Reviews: 215644.0\n",
      "App: Pixel Draw - Number Art Coloring Book, Max Reviews: 967.0\n"
     ]
    }
   ],
   "source": [
    "# Assuming you already have the 'review_max' dictionary\n",
    "\n",
    "# Iterate over the first five key-value pairs\n",
    "for app_name, max_reviews in list(review_max.items())[:5]:\n",
    "    print(f\"App: {app_name}, Max Reviews: {max_reviews}\")\n"
   ]
  },
  {
   "cell_type": "code",
   "execution_count": 11,
   "id": "53f399a6",
   "metadata": {},
   "outputs": [
    {
     "name": "stdout",
     "output_type": "stream",
     "text": [
      "66577446.0\n"
     ]
    }
   ],
   "source": [
    "print(review_max[\"Instagram\"])"
   ]
  },
  {
   "cell_type": "code",
   "execution_count": 12,
   "id": "eab7c5a3",
   "metadata": {},
   "outputs": [
    {
     "name": "stdout",
     "output_type": "stream",
     "text": [
      "Expected length: 9661\n",
      "Actual length: 9660\n"
     ]
    }
   ],
   "source": [
    "print('Expected length:', len(playstore_data) - 1181)\n",
    "print('Actual length:', len(review_max))"
   ]
  },
  {
   "cell_type": "code",
   "execution_count": 13,
   "id": "967213bb",
   "metadata": {},
   "outputs": [],
   "source": [
    "def a_string_fun(some_string):\n",
    "    for row_index in some_string:\n",
    "        string_value=ord(row_index)\n",
    "        if string_value>127:\n",
    "            return False\n",
    "        else:\n",
    "            return True"
   ]
  },
  {
   "cell_type": "markdown",
   "id": "aecaf5d6",
   "metadata": {},
   "source": [
    "##### a function for checking if a string conatins non english characters"
   ]
  },
  {
   "cell_type": "code",
   "execution_count": 14,
   "id": "8db43728",
   "metadata": {},
   "outputs": [
    {
     "data": {
      "text/plain": [
       "False"
      ]
     },
     "execution_count": 14,
     "metadata": {},
     "output_type": "execute_result"
    }
   ],
   "source": [
    "#a_string_fun('Instagram')\n",
    "#a_string_fun('Instachat 😂')\n",
    "a_string_fun('爱奇艺PPS -《欢乐颂2》电视剧热播'\n",
    ")"
   ]
  },
  {
   "cell_type": "markdown",
   "id": "c56a1679",
   "metadata": {},
   "source": [
    "##### A new function that actually deletes non-english apps from the dataset "
   ]
  },
  {
   "cell_type": "code",
   "execution_count": 15,
   "id": "caabe8e1",
   "metadata": {},
   "outputs": [],
   "source": [
    "non_eng=[]\n",
    "def a_string_fun1(some_string):\n",
    "    for row_index in some_string:\n",
    "        string_value=ord(row_index)\n",
    "        if string_value>127:\n",
    "            non_eng.append(string_value)\n",
    "            if len(non_eng)>3:\n",
    "                return False\n",
    "        else:\n",
    "            return True\n",
    "    "
   ]
  },
  {
   "cell_type": "code",
   "execution_count": 16,
   "id": "66a59029",
   "metadata": {},
   "outputs": [
    {
     "data": {
      "text/plain": [
       "False"
      ]
     },
     "execution_count": 16,
     "metadata": {},
     "output_type": "execute_result"
    }
   ],
   "source": [
    "#a_string_fun1('Docs To Go™ Free Office Suite')\n",
    "#a_string_fun('Instachat 😜')\n",
    "a_string_fun('爱奇艺PPS -《欢乐颂2》电视剧热播')"
   ]
  },
  {
   "cell_type": "code",
   "execution_count": 17,
   "id": "4a80c32d",
   "metadata": {},
   "outputs": [],
   "source": [
    "playtr_new=[]\n",
    "#\n",
    "def filter_data(data_set):\n",
    "    for row in data_set:\n",
    "        data_value=data_set[0]\n",
    "        filtr=a_string_fun1(data_value)\n",
    "        if filtr==True:\n",
    "            playtr_new.append(row)\n",
    "    return playtr_new\n"
   ]
  },
  {
   "cell_type": "code",
   "execution_count": 18,
   "id": "75f69c22",
   "metadata": {
    "scrolled": true
   },
   "outputs": [
    {
     "name": "stdout",
     "output_type": "stream",
     "text": [
      "['Photo Editor & Candy Camera & Grid & ScrapBook', 'Coloring book moana', 'U Launcher Lite – FREE Live Cool Themes, Hide Apps', 'Sketch - Draw & Paint']\n"
     ]
    }
   ],
   "source": [
    "example=list(review_max)\n",
    "playdata=filter_data(example)\n",
    "print(playdata[:4])"
   ]
  },
  {
   "cell_type": "code",
   "execution_count": 19,
   "id": "27e2302d",
   "metadata": {
    "scrolled": true
   },
   "outputs": [
    {
     "name": "stdout",
     "output_type": "stream",
     "text": [
      "[('Photo Editor & Candy Camera & Grid & ScrapBook', 159.0), ('Coloring book moana', 974.0), ('U Launcher Lite – FREE Live Cool Themes, Hide Apps', 87510.0), ('Sketch - Draw & Paint', 215644.0)]\n"
     ]
    }
   ],
   "source": [
    "first_four_items = list(review_max.items())[:4]\n",
    "print(first_four_items)"
   ]
  },
  {
   "cell_type": "code",
   "execution_count": 20,
   "id": "e12513f2",
   "metadata": {},
   "outputs": [
    {
     "ename": "ValueError",
     "evalue": "could not convert string to float: '3.0M'",
     "output_type": "error",
     "traceback": [
      "\u001b[1;31m---------------------------------------------------------------------------\u001b[0m",
      "\u001b[1;31mValueError\u001b[0m                                Traceback (most recent call last)",
      "Cell \u001b[1;32mIn[20], line 6\u001b[0m\n\u001b[0;32m      4\u001b[0m \u001b[38;5;28;01mfor\u001b[39;00m app \u001b[38;5;129;01min\u001b[39;00m playstore_data[\u001b[38;5;241m1\u001b[39m:]:\n\u001b[0;32m      5\u001b[0m     name \u001b[38;5;241m=\u001b[39m app[\u001b[38;5;241m0\u001b[39m]\n\u001b[1;32m----> 6\u001b[0m     n_review \u001b[38;5;241m=\u001b[39m \u001b[38;5;28mfloat\u001b[39m(app[\u001b[38;5;241m3\u001b[39m])\n\u001b[0;32m      8\u001b[0m     \u001b[38;5;28;01mif\u001b[39;00m (review_max[name] \u001b[38;5;241m==\u001b[39m n_review) \u001b[38;5;129;01mand\u001b[39;00m (name \u001b[38;5;129;01mnot\u001b[39;00m \u001b[38;5;129;01min\u001b[39;00m already_added):\n\u001b[0;32m      9\u001b[0m         android_clean\u001b[38;5;241m.\u001b[39mappend(app)\n",
      "\u001b[1;31mValueError\u001b[0m: could not convert string to float: '3.0M'"
     ]
    }
   ],
   "source": [
    "android_clean = []\n",
    "already_added = []\n",
    "\n",
    "for app in playstore_data[1:]:\n",
    "    name = app[0]\n",
    "    n_review = float(app[3])\n",
    "    \n",
    "    if (review_max[name] == n_review) and (name not in already_added):\n",
    "        android_clean.append(app)\n",
    "        already_added.append(name)"
   ]
  }
 ],
 "metadata": {
  "kernelspec": {
   "display_name": "Python 3 (ipykernel)",
   "language": "python",
   "name": "python3"
  },
  "language_info": {
   "codemirror_mode": {
    "name": "ipython",
    "version": 3
   },
   "file_extension": ".py",
   "mimetype": "text/x-python",
   "name": "python",
   "nbconvert_exporter": "python",
   "pygments_lexer": "ipython3",
   "version": "3.11.5"
  }
 },
 "nbformat": 4,
 "nbformat_minor": 5
}
