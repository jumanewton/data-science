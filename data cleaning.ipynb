{
 "cells": [
  {
   "cell_type": "code",
   "execution_count": 1,
   "id": "8ad93d6d",
   "metadata": {},
   "outputs": [],
   "source": [
    "from csv import reader\n",
    "def open_file(dataset):\n",
    "    opened_file=open(dataset, encoding='utf8')\n",
    "    read_file=reader(opened_file)\n",
    "    apps_data=list(read_file)\n",
    "    return apps_data\n",
    "apple_data=open_file(\"Downloads/archive/AppleStore.csv\")\n",
    "playstore_data=open_file('Downloads/googleplaystore.csv')\n"
   ]
  },
  {
   "cell_type": "code",
   "execution_count": 2,
   "id": "50834894",
   "metadata": {},
   "outputs": [
    {
     "name": "stdout",
     "output_type": "stream",
     "text": [
      "['', 'id', 'track_name', 'size_bytes', 'currency', 'price', 'rating_count_tot', 'rating_count_ver', 'user_rating', 'user_rating_ver', 'ver', 'cont_rating', 'prime_genre', 'sup_devices.num', 'ipadSc_urls.num', 'lang.num', 'vpp_lic']\n",
      "rows: 7198 columns: 17\n",
      "['App', 'Category', 'Rating', 'Reviews', 'Size', 'Installs', 'Type', 'Price', 'Content Rating', 'Genres', 'Last Updated', 'Current Ver', 'Android Ver']\n",
      "rows: 10842 columns: 13\n"
     ]
    }
   ],
   "source": [
    "def explore_data(dataset):\n",
    "    print(dataset[0])\n",
    "    columns=len(dataset[0])\n",
    "    rows=len(dataset)\n",
    "    print(\"rows: \"+str(rows)+\" columns: \"+str(columns))\n",
    "apple_desc=explore_data(apple_data)\n",
    "playstore_desc=explore_data(playstore_data)"
   ]
  },
  {
   "cell_type": "code",
   "execution_count": 3,
   "id": "31e260cb",
   "metadata": {
    "scrolled": true
   },
   "outputs": [
    {
     "name": "stdout",
     "output_type": "stream",
     "text": [
      "Number of duplicate apps: 1181\n",
      "\n",
      "\n",
      "Examples of duplicate apps: ['Quick PDF Scanner + OCR FREE', 'Box', 'Google My Business', 'ZOOM Cloud Meetings', 'join.me - Simple Meetings']\n"
     ]
    }
   ],
   "source": [
    "duplicate_apps = []\n",
    "unique_apps = []\n",
    "\n",
    "for app in playstore_data:\n",
    "    name = app[0]\n",
    "    if name in unique_apps:\n",
    "        duplicate_apps.append(name)\n",
    "    else:\n",
    "        unique_apps.append(name)\n",
    "    \n",
    "print('Number of duplicate apps:', len(duplicate_apps))\n",
    "print('\\n')\n",
    "print('Examples of duplicate apps:', duplicate_apps[:5])"
   ]
  },
  {
   "cell_type": "code",
   "execution_count": 4,
   "id": "d35528dd",
   "metadata": {},
   "outputs": [],
   "source": [
    "def convert_to_float(value):\n",
    "    if 'M' in value:\n",
    "        return float(value.replace('M', '')) * 1e6  # convert million to float\n",
    "    else:\n",
    "        return float(value)\n",
    "reviews_max={}\n",
    "for row in playstore_data[1:]:\n",
    "    name=row[0]\n",
    "    n_reviews = convert_to_float(row[3])\n",
    "    if name in reviews_max and reviews_max[name] < n_reviews:\n",
    "        reviews_max[name] = n_reviews\n",
    "        \n",
    "    elif name not in reviews_max:\n",
    "        reviews_max[name] = n_reviews"
   ]
  },
  {
   "cell_type": "code",
   "execution_count": 5,
   "id": "6a5ce80a",
   "metadata": {},
   "outputs": [
    {
     "name": "stdout",
     "output_type": "stream",
     "text": [
      "9665\n"
     ]
    }
   ],
   "source": [
    "android_clean = []\n",
    "already_added = []\n",
    "\n",
    "for row in playstore_data[1:]:\n",
    "    name = row[0]\n",
    "    n_reviews= convert_to_float(row[3])\n",
    "    #print(n_reviews)\n",
    "    if (reviews_max[name]==n_reviews) and (name not in already_added):\n",
    "        android_clean.append(app)\n",
    "    else:\n",
    "        already_added.append(name) # make sure this is inside the if block\n",
    "print(len(android_clean))"
   ]
  },
  {
   "cell_type": "code",
   "execution_count": 6,
   "id": "d813ec92",
   "metadata": {
    "scrolled": true
   },
   "outputs": [
    {
     "name": "stdout",
     "output_type": "stream",
     "text": [
      "['iHoroscope - 2018 Daily Horoscope & Astrology', 'LIFESTYLE', '4.5', '398307', '19M', '10,000,000+', 'Free', '0', 'Everyone', 'Lifestyle', 'July 25, 2018', 'Varies with device', 'Varies with device']\n",
      "rows: 9665 columns: 13\n",
      "\n",
      "\n",
      "['', 'id', 'track_name', 'size_bytes', 'currency', 'price', 'rating_count_tot', 'rating_count_ver', 'user_rating', 'user_rating_ver', 'ver', 'cont_rating', 'prime_genre', 'sup_devices.num', 'ipadSc_urls.num', 'lang.num', 'vpp_lic']\n",
      "rows: 7198 columns: 17\n",
      "\n",
      "\n"
     ]
    }
   ],
   "source": [
    "explore_data(android_clean)\n",
    "print('\\n')\n",
    "explore_data(apple_data)\n",
    "print('\\n')"
   ]
  },
  {
   "cell_type": "code",
   "execution_count": 7,
   "id": "046d1bf0",
   "metadata": {},
   "outputs": [],
   "source": [
    "def is_english(string):\n",
    "    non_ascii = 0\n",
    "    \n",
    "    for character in string:\n",
    "        if ord(character) > 127:\n",
    "            non_ascii += 1\n",
    "    \n",
    "    if non_ascii > 3:\n",
    "        return False\n",
    "    else:\n",
    "        return True"
   ]
  },
  {
   "cell_type": "code",
   "execution_count": 43,
   "id": "f6b80beb",
   "metadata": {
    "scrolled": true
   },
   "outputs": [
    {
     "name": "stdout",
     "output_type": "stream",
     "text": [
      "['iHoroscope - 2018 Daily Horoscope & Astrology', 'LIFESTYLE', '4.5', '398307', '19M', '10,000,000+', 'Free', '0', 'Everyone', 'Lifestyle', 'July 25, 2018', 'Varies with device', 'Varies with device']\n",
      "rows: 9665 columns: 13\n",
      "\n",
      "\n",
      "['1', '281656475', 'PAC-MAN Premium', '100788224', 'USD', '3.99', '21292', '26', '4', '4.5', '6.3.5', '4+', 'Games', '38', '5', '10', '1']\n",
      "rows: 7197 columns: 17\n",
      "\n",
      "\n"
     ]
    }
   ],
   "source": [
    "android_english = []\n",
    "ios_english = []\n",
    "\n",
    "for app in android_clean:\n",
    "    name = app[0]\n",
    "    if is_english(name):\n",
    "        android_english.append(app)\n",
    "        \n",
    "for app in apple_data[1:]:\n",
    "    name = app[1]\n",
    "    if is_english(name):\n",
    "        ios_english.append(app)\n",
    "        \n",
    "explore_data(android_english)\n",
    "print('\\n')\n",
    "explore_data(ios_english)\n",
    "print('\\n')\n"
   ]
  },
  {
   "cell_type": "markdown",
   "id": "bce0fd11",
   "metadata": {},
   "source": [
    "#### creating a list of free english apps"
   ]
  },
  {
   "cell_type": "code",
   "execution_count": 9,
   "id": "9a2ce878",
   "metadata": {},
   "outputs": [
    {
     "name": "stdout",
     "output_type": "stream",
     "text": [
      "9665\n"
     ]
    }
   ],
   "source": [
    "android_free=[]\n",
    "for row in android_clean:\n",
    "    price=float(row[7])\n",
    "    if price==0.0:\n",
    "        android_free.append(row)\n",
    "    #return android_free\n",
    "print(len(android_free))\n"
   ]
  },
  {
   "cell_type": "code",
   "execution_count": 42,
   "id": "384befbd",
   "metadata": {},
   "outputs": [
    {
     "name": "stdout",
     "output_type": "stream",
     "text": [
      "4056\n"
     ]
    }
   ],
   "source": [
    "ios_free=[]\n",
    "for row in ios_english:\n",
    "    price=float(row[5])\n",
    "    if price==0.0:\n",
    "        ios_free.append(row)\n",
    "    #return android_free\n",
    "print(len(ios_free))\n"
   ]
  },
  {
   "cell_type": "markdown",
   "id": "793bf419",
   "metadata": {},
   "source": [
    "#### we are going to create another frequency table that will be able to show us which apps have attracted most usage and those that needs an ios version based on usage after 6 months of development.\n",
    "you are welcome"
   ]
  },
  {
   "cell_type": "markdown",
   "id": "9819cdd1",
   "metadata": {},
   "source": [
    "def freq_table(dataset, index):\n",
    "    frequency_table = {}\n",
    "    for value in dataset:\n",
    "        if value[index] in frequency_table:\n",
    "            frequency_table[value[index]] += 1\n",
    "        else:\n",
    "            frequency_table[value[index]] = 1\n",
    "    return frequency_table\n",
    "    def display_table(dataset, index):\n",
    "    table = freq_table(dataset, index)\n",
    "    table_display = []\n",
    "    for key in table:\n",
    "        key_val_as_tuple = (table[key], key)\n",
    "        table_display.append(key_val_as_tuple)\n",
    "\n",
    "    table_sorted = sorted(table_display, reverse = True)\n",
    "    for entry in table_sorted:\n",
    "        print(entry[1], ':', entry[0])"
   ]
  },
  {
   "cell_type": "code",
   "execution_count": 11,
   "id": "d20eea59",
   "metadata": {},
   "outputs": [],
   "source": [
    "def freq_table(dataset, index):\n",
    "    table = {}\n",
    "    total = 0\n",
    "    \n",
    "    for row in dataset:\n",
    "        total += 1\n",
    "        value = row[index]\n",
    "        if value in table:\n",
    "            table[value] += 1\n",
    "        else:\n",
    "            table[value] = 1\n",
    "    \n",
    "    table_percentages = {}\n",
    "    for key in table:\n",
    "        percentage = (table[key] / total) * 100\n",
    "        table_percentages[key] = percentage \n",
    "    \n",
    "    return table_percentages\n",
    "\n",
    "\n",
    "def display_table(dataset, index):\n",
    "    table = freq_table(dataset, index)\n",
    "    table_display = []\n",
    "    for key in table:\n",
    "        key_val_as_tuple = (table[key], key)\n",
    "        table_display.append(key_val_as_tuple)\n",
    "        \n",
    "    table_sorted = sorted(table_display, reverse = True)\n",
    "    for entry in table_sorted:\n",
    "        print(entry[1], ':', entry[0])\n"
   ]
  },
  {
   "cell_type": "code",
   "execution_count": 24,
   "id": "e6456db8",
   "metadata": {},
   "outputs": [
    {
     "data": {
      "text/plain": [
       "{'LIFESTYLE': 100.0}"
      ]
     },
     "execution_count": 24,
     "metadata": {},
     "output_type": "execute_result"
    }
   ],
   "source": [
    "# category\n",
    "freq_table(android_free,1)\n",
    "#print(android_free[:4])"
   ]
  },
  {
   "cell_type": "code",
   "execution_count": 25,
   "id": "e04b4d02",
   "metadata": {
    "scrolled": true
   },
   "outputs": [
    {
     "data": {
      "text/plain": [
       "{'Productivity': 1.5285996055226825,\n",
       " 'Weather': 0.7642998027613412,\n",
       " 'Shopping': 2.983234714003945,\n",
       " 'Reference': 0.4930966469428008,\n",
       " 'Finance': 2.0710059171597637,\n",
       " 'Music': 1.6518737672583828,\n",
       " 'Utilities': 2.687376725838264,\n",
       " 'Travel': 1.3806706114398422,\n",
       " 'Social Networking': 3.5256410256410255,\n",
       " 'Sports': 1.947731755424063,\n",
       " 'Health & Fitness': 1.8737672583826428,\n",
       " 'Games': 55.64595660749507,\n",
       " 'Food & Drink': 1.0601577909270217,\n",
       " 'News': 1.4299802761341223,\n",
       " 'Book': 1.6272189349112427,\n",
       " 'Photo & Video': 4.117357001972387,\n",
       " 'Entertainment': 8.234714003944774,\n",
       " 'Business': 0.4930966469428008,\n",
       " 'Lifestyle': 2.3175542406311638,\n",
       " 'Education': 3.2544378698224854,\n",
       " 'Navigation': 0.4930966469428008,\n",
       " 'Medical': 0.19723865877712032,\n",
       " 'Catalogs': 0.22189349112426035}"
      ]
     },
     "execution_count": 25,
     "metadata": {},
     "output_type": "execute_result"
    }
   ],
   "source": [
    "freq_table(ios_free, -5)"
   ]
  },
  {
   "cell_type": "code",
   "execution_count": 26,
   "id": "591ff629",
   "metadata": {
    "scrolled": true
   },
   "outputs": [
    {
     "data": {
      "text/plain": [
       "{'Lifestyle': 100.0}"
      ]
     },
     "execution_count": 26,
     "metadata": {},
     "output_type": "execute_result"
    }
   ],
   "source": [
    "# category\n",
    "freq_table(android_free,-4)\n",
    "#print(android_free[:4])"
   ]
  },
  {
   "cell_type": "markdown",
   "id": "480b2b2b",
   "metadata": {},
   "source": [
    "##### Generating frequency table for prime genre"
   ]
  },
  {
   "cell_type": "code",
   "execution_count": 35,
   "id": "095e0660",
   "metadata": {},
   "outputs": [
    {
     "name": "stdout",
     "output_type": "stream",
     "text": [
      "Productivity : 8051.3258426966295\n",
      "Weather : 22181.027777777777\n",
      "Shopping : 18615.32786885246\n",
      "Reference : 22410.84375\n",
      "Finance : 11047.653846153846\n",
      "Music : 28842.021739130436\n",
      "Utilities : 6863.822580645161\n",
      "Travel : 14129.444444444445\n",
      "Social Networking : 45498.89820359281\n",
      "Sports : 14026.929824561403\n",
      "Health & Fitness : 9913.172222222222\n",
      "Games : 13691.996633868463\n",
      "Food & Drink : 13938.619047619048\n",
      "News : 13015.066666666668\n",
      "Book : 5125.4375\n",
      "Photo & Video : 14352.280802292264\n",
      "Entertainment : 7533.678504672897\n",
      "Business : 4788.087719298245\n",
      "Lifestyle : 6161.763888888889\n",
      "Education : 2239.2295805739514\n",
      "Navigation : 11853.95652173913\n",
      "Medical : 592.7826086956521\n",
      "Catalogs : 1732.5\n"
     ]
    }
   ],
   "source": [
    "freq_forprime=freq_table(ios_free,-5)\n",
    "for genre in freq_forprime:\n",
    "    total = 0\n",
    "    len_genre = 0\n",
    "    for app in apple_data:\n",
    "        genre_app = app[-5]\n",
    "        if genre_app == genre:            \n",
    "            n_ratings = float(app[6])\n",
    "            total += n_ratings\n",
    "            len_genre += 1\n",
    "    avg_n_ratings = total / len_genre\n",
    "    print(genre, ':', avg_n_ratings)"
   ]
  },
  {
   "cell_type": "markdown",
   "id": "07a56117",
   "metadata": {},
   "source": [
    "Finding apps with the highest number of user reviews"
   ]
  },
  {
   "cell_type": "code",
   "execution_count": 45,
   "id": "9e2b8d8b",
   "metadata": {
    "scrolled": true
   },
   "outputs": [
    {
     "name": "stdout",
     "output_type": "stream",
     "text": [
      "Waze - GPS Navigation, Maps & Real-time Traffic : 345046\n",
      "Geocaching® : 12811\n",
      "ImmobilienScout24: Real Estate Search in Germany : 187\n",
      "恵方コンパス. : 0\n",
      "ナビタイム ドライブサポーター - NAVITIMEのカーナビアプリ : 0\n",
      "自転車ナビ by NAVITIME(ナビタイム) - 自転車のナビができるアプリ : 0\n",
      "百度地图-智能的手机导航，公交地铁出行必备 : 1014\n",
      "高德地图（精准专业的手机地图） : 1040\n",
      "Railway Route Search : 5\n",
      "CoPilot GPS – Car Navigation & Offline Maps : 3582\n",
      "ナビタイムの乗り換え案内 - 遅延情報やバス時刻表を案内するアプリ : 48\n",
      "百度地图HD : 771\n",
      "高德地图HD : 26\n",
      "Google Maps - Navigation & Transit : 154911\n",
      "JR東日本アプリ : 0\n",
      "NAVIRO(ナビロー) - カーナビ/バイクナビ/徒歩ナビが使える高性能ナビアプリ : 0\n",
      "ホラースポット-ghost spot-意味が分かると怖いマップ : 0\n",
      "バーチャル恵方巻【節分・恵方コンパス・方位】 : 0\n",
      "えほう - 最強の恵方コンパス : 0\n",
      "MapFan(マップファン) – 渋滞情報/オービス/オフライン対応の本格カーナビ : 0\n"
     ]
    }
   ],
   "source": [
    "for app in ios_free:\n",
    "    if app[-5] == 'Navigation':\n",
    "        print(app[2], ':', app[6]) "
   ]
  },
  {
   "cell_type": "code",
   "execution_count": 48,
   "id": "84a39eac",
   "metadata": {},
   "outputs": [
    {
     "name": "stdout",
     "output_type": "stream",
     "text": [
      "10,000,000+ : 100.0\n"
     ]
    }
   ],
   "source": [
    "display_table(android_free, 5)"
   ]
  },
  {
   "cell_type": "code",
   "execution_count": null,
   "id": "b4439c23",
   "metadata": {},
   "outputs": [],
   "source": []
  }
 ],
 "metadata": {
  "kernelspec": {
   "display_name": "Python 3 (ipykernel)",
   "language": "python",
   "name": "python3"
  },
  "language_info": {
   "codemirror_mode": {
    "name": "ipython",
    "version": 3
   },
   "file_extension": ".py",
   "mimetype": "text/x-python",
   "name": "python",
   "nbconvert_exporter": "python",
   "pygments_lexer": "ipython3",
   "version": "3.11.5"
  }
 },
 "nbformat": 4,
 "nbformat_minor": 5
}
