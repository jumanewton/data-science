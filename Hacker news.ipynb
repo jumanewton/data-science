{
 "cells": [
  {
   "cell_type": "markdown",
   "id": "a4f0766d",
   "metadata": {},
   "source": [
    "We will analyse data in the Hacker news dataset. this dataset was sliced to specifically represent the the number of posts and replies that poses a question to the hacker news community channel"
   ]
  },
  {
   "cell_type": "code",
   "execution_count": 1,
   "id": "039f8838",
   "metadata": {},
   "outputs": [
    {
     "name": "stdout",
     "output_type": "stream",
     "text": [
      "[['id', 'title', 'url', 'num_points', 'num_comments', 'author', 'created_at'], ['12224879', 'Interactive Dynamic Video', 'http://www.interactivedynamicvideo.com/', '386', '52', 'ne0phyte', '8/4/2016 11:52'], ['10975351', 'How to Use Open Source and Shut the Fuck Up at the Same Time', 'http://hueniverse.com/2016/01/26/how-to-use-open-source-and-shut-the-fuck-up-at-the-same-time/', '39', '10', 'josep2', '1/26/2016 19:30'], ['11964716', \"Florida DJs May Face Felony for April Fools' Water Joke\", 'http://www.thewire.com/entertainment/2013/04/florida-djs-april-fools-water-joke/63798/', '2', '1', 'vezycash', '6/23/2016 22:20'], ['11919867', 'Technology ventures: From Idea to Enterprise', 'https://www.amazon.com/Technology-Ventures-Enterprise-Thomas-Byers/dp/0073523429', '3', '1', 'hswarna', '6/17/2016 0:01']]\n"
     ]
    }
   ],
   "source": [
    "from csv import reader\n",
    "opened_file=open(\"Downloads/hacker_news.csv\")\n",
    "read_file=reader(opened_file)\n",
    "hn=list(read_file)\n",
    "print(hn[:5])"
   ]
  },
  {
   "cell_type": "code",
   "execution_count": 2,
   "id": "4525d3f6",
   "metadata": {},
   "outputs": [
    {
     "name": "stdout",
     "output_type": "stream",
     "text": [
      "['id', 'title', 'url', 'num_points', 'num_comments', 'author', 'created_at']\n",
      "\n",
      "\n",
      "[['12224879', 'Interactive Dynamic Video', 'http://www.interactivedynamicvideo.com/', '386', '52', 'ne0phyte', '8/4/2016 11:52'], ['10975351', 'How to Use Open Source and Shut the Fuck Up at the Same Time', 'http://hueniverse.com/2016/01/26/how-to-use-open-source-and-shut-the-fuck-up-at-the-same-time/', '39', '10', 'josep2', '1/26/2016 19:30'], ['11964716', \"Florida DJs May Face Felony for April Fools' Water Joke\", 'http://www.thewire.com/entertainment/2013/04/florida-djs-april-fools-water-joke/63798/', '2', '1', 'vezycash', '6/23/2016 22:20'], ['11919867', 'Technology ventures: From Idea to Enterprise', 'https://www.amazon.com/Technology-Ventures-Enterprise-Thomas-Byers/dp/0073523429', '3', '1', 'hswarna', '6/17/2016 0:01'], ['10301696', 'Note by Note: The Making of Steinway L1037 (2007)', 'http://www.nytimes.com/2007/11/07/movies/07stein.html?_r=0', '8', '2', 'walterbell', '9/30/2015 4:12']]\n"
     ]
    }
   ],
   "source": [
    "#removing the header\n",
    "headers=hn[0]\n",
    "hn=hn[1:]\n",
    "print(headers)\n",
    "print(\"\\n\")\n",
    "print(hn[:5])"
   ]
  },
  {
   "cell_type": "markdown",
   "id": "87e2af76",
   "metadata": {},
   "source": [
    "##### Extracting Ask HN and Show HN Posts"
   ]
  },
  {
   "cell_type": "code",
   "execution_count": 3,
   "id": "3dcba13a",
   "metadata": {
    "scrolled": true
   },
   "outputs": [
    {
     "name": "stdout",
     "output_type": "stream",
     "text": [
      "The number of ask_posts is: 1744\n",
      "The number of show_posts is: 1162\n",
      "The number of other_posts is: 17194\n"
     ]
    }
   ],
   "source": [
    "ask_posts=[]\n",
    "show_posts=[]\n",
    "other_posts=[]\n",
    "for row in hn:\n",
    "    title=row[1]\n",
    "    if title.lower().startswith(\"ask hn\"):\n",
    "        ask_posts.append(row)\n",
    "    elif title.lower().startswith(\"show hn\"):\n",
    "        show_posts.append(row)\n",
    "    else:\n",
    "        other_posts.append(row)\n",
    "print(\"The number of ask_posts is: \"+str(len(ask_posts)))\n",
    "print(\"The number of show_posts is: \"+str(len(show_posts)))\n",
    "print(\"The number of other_posts is: \"+str(len(other_posts)))\n",
    "#\n",
    "##\n",
    "####\n"
   ]
  },
  {
   "cell_type": "markdown",
   "id": "9bb2402f",
   "metadata": {},
   "source": [
    "#### calculating the average numbers of  comments\n",
    "\n"
   ]
  },
  {
   "cell_type": "code",
   "execution_count": 4,
   "id": "5dcc18d1",
   "metadata": {},
   "outputs": [
    {
     "name": "stdout",
     "output_type": "stream",
     "text": [
      "14.038417431192661\n",
      "10.31669535283993\n"
     ]
    }
   ],
   "source": [
    "# calculating the average numbers of ask comments\n",
    "\n",
    "total_ask_comments = 0\n",
    "freq = 0\n",
    "\n",
    "for row in ask_posts:\n",
    "    if row[4].isdigit():\n",
    "        total_ask_comments += int(row[4])\n",
    "        freq += 1\n",
    "\n",
    "# Check if there are valid comments before calculating the average\n",
    "avg_ask_comments = total_ask_comments / freq if freq > 0 else 0\n",
    "print(avg_ask_comments)\n",
    "\n",
    "# calculating average number of show comments\n",
    "\n",
    "total_show_comments = 0\n",
    "comm = 0\n",
    "\n",
    "for row in show_posts:\n",
    "    if row[4].isdigit():\n",
    "        total_show_comments += int(row[4])\n",
    "        comm += 1\n",
    "\n",
    "# Check if there are valid comments before calculating the average\n",
    "avg_show_comments = total_show_comments / comm if comm > 0 else 0\n",
    "print(avg_show_comments)\n"
   ]
  },
  {
   "cell_type": "markdown",
   "id": "8ea2327e",
   "metadata": {},
   "source": [
    " #### Finding the Number of Ask Posts and Comments by Hour Created\n",
    " \n",
    " "
   ]
  },
  {
   "cell_type": "code",
   "execution_count": 5,
   "id": "e7f2c2c2",
   "metadata": {},
   "outputs": [],
   "source": [
    "import datetime as dt\n",
    "result_list=[]\n",
    "for row in ask_posts:\n",
    "    if row[4].isdigit():\n",
    "        created_at=row[6]\n",
    "        num_co=int(row[4])\n",
    "    result_list.append([created_at, num_co])\n",
    "counts_by_hour={}\n",
    "comments_by_hour={}\n",
    "for row in result_list:\n",
    "    extract=row[0]\n",
    "    numm=row[1]\n",
    "    date_object = dt.datetime.strptime(extract, \"%m/%d/%Y %H:%M\")\n",
    "    hour = date_object.hour\n",
    "    #row[0]=hour\n",
    "    if hour not in counts_by_hour:\n",
    "        counts_by_hour[hour]=1\n",
    "        comments_by_hour[hour]=numm\n",
    "    else:\n",
    "        counts_by_hour[hour]+=1\n",
    "        comments_by_hour[hour]+=numm\n",
    "#print(result_list[:5])\n"
   ]
  },
  {
   "cell_type": "markdown",
   "id": "6783e631",
   "metadata": {},
   "source": [
    "Calculating the Average Number of Comments for Ask HN Posts by Hour\n",
    "\n"
   ]
  },
  {
   "cell_type": "code",
   "execution_count": 10,
   "id": "65ef736a",
   "metadata": {},
   "outputs": [
    {
     "name": "stdout",
     "output_type": "stream",
     "text": [
      "[[9, 5.5777777777777775], [13, 14.741176470588234], [10, 13.440677966101696], [14, 13.233644859813085], [16, 16.796296296296298], [23, 7.985294117647059], [12, 9.41095890410959], [17, 11.46], [15, 38.5948275862069], [21, 16.009174311926607], [20, 21.525], [2, 23.810344827586206], [18, 13.20183486238532], [3, 7.796296296296297], [5, 10.08695652173913], [19, 10.8], [1, 11.383333333333333], [22, 6.746478873239437], [8, 10.25], [4, 7.170212765957447], [0, 8.127272727272727], [6, 9.022727272727273], [7, 7.852941176470588], [11, 11.051724137931034]]\n"
     ]
    }
   ],
   "source": [
    "average_com=[]\n",
    "for hour in counts_by_hour:\n",
    "    average_com.append([hour, comments_by_hour[hour]/counts_by_hour[hour]])\n",
    "avg_by_hour=average_com\n",
    "print(avg_by_hour)"
   ]
  },
  {
   "cell_type": "code",
   "execution_count": 12,
   "id": "9d4691d6",
   "metadata": {},
   "outputs": [
    {
     "name": "stdout",
     "output_type": "stream",
     "text": [
      "[[5.5777777777777775, 9], [14.741176470588234, 13], [13.440677966101696, 10], [13.233644859813085, 14], [16.796296296296298, 16], [7.985294117647059, 23], [9.41095890410959, 12], [11.46, 17], [38.5948275862069, 15], [16.009174311926607, 21], [21.525, 20], [23.810344827586206, 2], [13.20183486238532, 18], [7.796296296296297, 3], [10.08695652173913, 5], [10.8, 19], [11.383333333333333, 1], [6.746478873239437, 22], [10.25, 8], [7.170212765957447, 4], [8.127272727272727, 0], [9.022727272727273, 6], [7.852941176470588, 7], [11.051724137931034, 11]]\n"
     ]
    }
   ],
   "source": [
    "###Sorting values\n",
    "swap_avg_by_hour=[]\n",
    "for row in avg_by_hour:\n",
    "    swap_avg_by_hour.append([row[1],row[0]])\n",
    "print(swap_avg_by_hour) \n",
    "\n"
   ]
  },
  {
   "cell_type": "code",
   "execution_count": 16,
   "id": "090bc478",
   "metadata": {},
   "outputs": [
    {
     "name": "stdout",
     "output_type": "stream",
     "text": [
      "[[38.5948275862069, 15], [23.810344827586206, 2], [21.525, 20], [16.796296296296298, 16], [16.009174311926607, 21], [14.741176470588234, 13], [13.440677966101696, 10], [13.233644859813085, 14], [13.20183486238532, 18], [11.46, 17], [11.383333333333333, 1], [11.051724137931034, 11], [10.8, 19], [10.25, 8], [10.08695652173913, 5], [9.41095890410959, 12], [9.022727272727273, 6], [8.127272727272727, 0], [7.985294117647059, 23], [7.852941176470588, 7], [7.796296296296297, 3], [7.170212765957447, 4], [6.746478873239437, 22], [5.5777777777777775, 9]]\n"
     ]
    }
   ],
   "source": [
    "sorted_swap=sorted(swap_avg_by_hour, reverse=True)\n",
    "print(sorted_swap)"
   ]
  },
  {
   "cell_type": "markdown",
   "id": "94ba4c43",
   "metadata": {},
   "source": [
    "#### sorting and printing values from a list of lists\n"
   ]
  },
  {
   "cell_type": "code",
   "execution_count": 18,
   "id": "45a8c895",
   "metadata": {},
   "outputs": [
    {
     "ename": "TypeError",
     "evalue": "strptime() argument 1 must be str, not int",
     "output_type": "error",
     "traceback": [
      "\u001b[1;31m---------------------------------------------------------------------------\u001b[0m",
      "\u001b[1;31mTypeError\u001b[0m                                 Traceback (most recent call last)",
      "Cell \u001b[1;32mIn[18], line 5\u001b[0m\n\u001b[0;32m      3\u001b[0m     time\u001b[38;5;241m=\u001b[39mrow[\u001b[38;5;241m1\u001b[39m]\n\u001b[0;32m      4\u001b[0m     avg\u001b[38;5;241m=\u001b[39m\u001b[38;5;28mround\u001b[39m(avg,\u001b[38;5;241m2\u001b[39m)\n\u001b[1;32m----> 5\u001b[0m     time\u001b[38;5;241m=\u001b[39mdt\u001b[38;5;241m.\u001b[39mdatetime\u001b[38;5;241m.\u001b[39mstrptime(time, \u001b[38;5;124m\"\u001b[39m\u001b[38;5;124m%\u001b[39m\u001b[38;5;124mH\u001b[39m\u001b[38;5;124m\"\u001b[39m)\n\u001b[0;32m      6\u001b[0m     time\u001b[38;5;241m=\u001b[39mdt\u001b[38;5;241m.\u001b[39mstrftime(time, \u001b[38;5;124m\"\u001b[39m\u001b[38;5;124m%\u001b[39m\u001b[38;5;124mH:\u001b[39m\u001b[38;5;124m%\u001b[39m\u001b[38;5;124mM\u001b[39m\u001b[38;5;124m\"\u001b[39m)\n\u001b[0;32m      7\u001b[0m     \u001b[38;5;66;03m#time_str = str(time).zfill(4)  # Assuming time is in 24-hour format\u001b[39;00m\n\u001b[0;32m      8\u001b[0m \n\u001b[0;32m      9\u001b[0m \u001b[38;5;66;03m# Use the correct method name 'strptime'\u001b[39;00m\n\u001b[0;32m     10\u001b[0m     \u001b[38;5;66;03m#time_parsed = dt.datetime.strptime(time_str, \"%H%M\")\u001b[39;00m\n\u001b[0;32m     11\u001b[0m     \u001b[38;5;66;03m#print(printout)\u001b[39;00m\n",
      "\u001b[1;31mTypeError\u001b[0m: strptime() argument 1 must be str, not int"
     ]
    }
   ],
   "source": [
    "from datetime import datetime\n",
    "for row in sorted_swap[:5]:\n",
    "    avg=row[0]\n",
    "    time=row[1]\n",
    "    avg=round(avg,2)\n",
    "    time=dt.datetime.strptime(time, \"%H\")\n",
    "    time=dt.strftime(time, \"%H:%M\")\n",
    "    #time_str = str(time).zfill(4)  # Assuming time is in 24-hour format\n",
    "\n",
    "# Use the correct method name 'strptime'\n",
    "    #time_parsed = dt.datetime.strptime(time_str, \"%H%M\")\n",
    "    #print(printout)\n",
    "    str1=\"{}: {} average comments per post\"\n",
    "    str2=str1.format(time, avg)\n",
    "    print(str2)"
   ]
  },
  {
   "cell_type": "code",
   "execution_count": 20,
   "id": "a7d8358f",
   "metadata": {},
   "outputs": [
    {
     "name": "stdout",
     "output_type": "stream",
     "text": [
      "15:00: 38.59 average comments per post\n",
      "02:00: 23.81 average comments per post\n",
      "20:00: 21.52 average comments per post\n",
      "16:00: 16.8 average comments per post\n",
      "21:00: 16.01 average comments per post\n"
     ]
    }
   ],
   "source": [
    "from datetime import datetime\n",
    "\n",
    "# Assuming sorted_swap is a list of lists where each inner list is [avg, time]\n",
    "\n",
    "for row in sorted_swap[:5]:\n",
    "    avg = row[0]\n",
    "    time = row[1]\n",
    "    avg = round(avg, 2)\n",
    "\n",
    "    # Convert the integer time to a string and format it with leading zeros if needed\n",
    "    time_str = str(time).zfill(2)\n",
    "\n",
    "    # Use the correct method name 'strptime' with the imported alias 'dt'\n",
    "    time_object = dt.datetime.strptime(time_str, \"%H\")\n",
    "\n",
    "    # Format the datetime object to 'HH:00'\n",
    "    formatted_time = time_object.strftime(\"%H:%M\")\n",
    "\n",
    "    str1 = \"{}: {} average comments per post\"\n",
    "    str2 = str1.format(formatted_time, avg)\n",
    "    print(str2)\n",
    "\n"
   ]
  },
  {
   "cell_type": "code",
   "execution_count": null,
   "id": "451fe0ca",
   "metadata": {},
   "outputs": [],
   "source": []
  }
 ],
 "metadata": {
  "kernelspec": {
   "display_name": "Python 3 (ipykernel)",
   "language": "python",
   "name": "python3"
  },
  "language_info": {
   "codemirror_mode": {
    "name": "ipython",
    "version": 3
   },
   "file_extension": ".py",
   "mimetype": "text/x-python",
   "name": "python",
   "nbconvert_exporter": "python",
   "pygments_lexer": "ipython3",
   "version": "3.11.5"
  }
 },
 "nbformat": 4,
 "nbformat_minor": 5
}
